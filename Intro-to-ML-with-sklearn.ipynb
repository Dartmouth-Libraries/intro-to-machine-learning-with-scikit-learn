{
 "cells": [
  {
   "cell_type": "markdown",
   "metadata": {},
   "source": [
    "<img align=\"right\" width=\"120\" height=\"120\" style='padding: 0px 30px;' src=\"images/RR-logo.png\"/>\n",
    "\n",
    "# Introduction to Machine Learning with scikit-learn\n",
    "\n",
    "\n",
    "\n"
   ]
  },
  {
   "cell_type": "markdown",
   "metadata": {},
   "source": [
    "*Click into a cell and hit \"Shift+Enter\" to execute it!*"
   ]
  },
  {
   "cell_type": "code",
   "execution_count": null,
   "metadata": {},
   "outputs": [],
   "source": [
    "\"\"\" Let's apply some Dartmouth-style colors to our plots \"\"\"\n",
    "\n",
    "import matplotlib as mpl\n",
    "\n",
    "mpl.rcParams.update({\n",
    "                        'figure.facecolor': \"#EBF3EF\",\n",
    "                        'figure.figsize': [7.50, 3.50],\n",
    "                        'axes.prop_cycle': mpl.cycler(color=[\"#00693E\", \"#12312B\", \"#C3DD88\", \"#6EAA8D\", \"#797979\", \"#EBF3EF\"]),\n",
    "                        'axes.facecolor': \"#FFFFFF\",\n",
    "                        'axes.labelcolor': '#12312B',\n",
    "                        'text.color': '#12312B'\n",
    "                    })"
   ]
  },
  {
   "cell_type": "markdown",
   "metadata": {},
   "source": [
    "## Loading a dataset\n",
    "\n",
    "In this notebook, we will work with the famous *Iris* flower dataset. It is a multivariate dataset consisting of 50 samples from each of three species of *Iris*. Each sample is described in terms of four features: the length and width of its sepals and its petals."
   ]
  },
  {
   "cell_type": "markdown",
   "metadata": {},
   "source": [
    "<style type=\"text/css\" >\n",
    "table {\n",
    "    border-style: hidden;\n",
    "    border-collapse: collapse;\n",
    "    text-align: center;\n",
    "    border-top: 3px solid;\n",
    "    border-bottom: 3px solid;\n",
    "}\n",
    "\n",
    "tr, td, th {\n",
    "    border-bottom: none !important;\n",
    "    border-left: none !important;\n",
    "    border-right: none !important;\n",
    "}\n",
    "\n",
    "</style>\n",
    "\n",
    "<table>\n",
    "  <tr>\n",
    "    <th>Iris setosa</th>\n",
    "    <th>Iris versicolor</th>\n",
    "    <th>Iris virginica</th>    \n",
    "  </tr>\n",
    "  <tr>\n",
    "    <td><img align=\"center\" width=\"200\" height=\"200\" src=\"images/iris_setosa.jpg\"/></td>\n",
    "    <td><img align=\"center\" width=\"200\" height=\"200\" src=\"images/iris_versicolor.jpg\"/></td>\n",
    "    <td><img align=\"center\" width=\"200\" height=\"200\" src=\"images/iris_virginica.jpg\"/></td>\n",
    "  </tr>\n",
    "  <tr>\n",
    "    <td><a href=\"https://commons.wikimedia.org/wiki/File:Iris_setosa_2.jpg\" target=\"_blank\">\"Iris setosa\"</a> by <a href=\"https://commons.wikimedia.org/wiki/User:Kulmalukko\" target=\"_blank\">Tiia Monto</a><br> is licensed under <a href=\"http://creativecommons.org/licenses/by-sa/4.0\" target=\"_blank\">CC BY-SA 4.0</a></td>\n",
    "    <td><a href=\"https://commons.wikimedia.org/wiki/File:Blue_Flag_Iris_(15246206044).jpg\" target=\"_blank\">\"Blue Flag Iris\"</a> by <a href=\"https://www.flickr.com/people/49208525@N08\" target=\"_blank\">USFWSmidwest</a><br> is licensed under <a href=\"http://creativecommons.org/licenses/by/2.0\" target=\"_blank\">CC BY 2.0</a></td>\n",
    "    <td><a href=\"https://commons.wikimedia.org/wiki/File:Iris_virginica_L_JdP_2013-05-28_n01.jpg\" target=\"_blank\">\"Virginia Iris\"</a> by <a>Marie-Lan Nguyen</a><br> is licensed under <a href=\"http://creativecommons.org/licenses/by/2.5\" target=\"_blank\">CC BY 2.5</a></td>    \n",
    "  </tr>\n",
    "  <tr>\n",
    "    <td>Class 0</td>\n",
    "    <td>Class 1</td>\n",
    "    <td>Class 2</td>    \n",
    "  </tr>\n",
    "</table>"
   ]
  },
  {
   "cell_type": "code",
   "execution_count": null,
   "metadata": {},
   "outputs": [],
   "source": []
  },
  {
   "cell_type": "code",
   "execution_count": null,
   "metadata": {},
   "outputs": [],
   "source": [
    "from sklearn.datasets import load_iris\n",
    "\n",
    "dataset = load_iris()\n",
    "\n",
    "X = dataset['data']\n",
    "y = dataset['target']\n",
    "feature_names = dataset['feature_names']\n",
    "target_names = dataset['target_names']\n",
    "\n",
    "target_names"
   ]
  },
  {
   "cell_type": "code",
   "execution_count": null,
   "metadata": {},
   "outputs": [],
   "source": [
    "import matplotlib.pyplot as plt\n",
    "import numpy as np\n",
    "\n",
    "plt.bar(x=target_names, height=np.bincount(y))\n",
    "plt.title('Class distribution')"
   ]
  },
  {
   "cell_type": "code",
   "execution_count": null,
   "metadata": {},
   "outputs": [],
   "source": [
    "import matplotlib.pyplot as plt\n",
    "from matplotlib.offsetbox import OffsetImage, AnnotationBbox\n",
    "\n",
    "def getImage(path):\n",
    "   return OffsetImage(plt.imread(path, format=\"png\"), zoom=.05)\n",
    "\n",
    "paths = ['iris_versicolor.png', 'iris_setosa.png', 'iris_virginica.png']\n",
    "\n",
    "fig = plt.figure(figsize=(5, 2.5), dpi=300)\n",
    "ax = fig.add_subplot()\n",
    "ax.scatter(X[:, 1], X[:, 2], alpha=0.0)\n",
    "for x0, y0, target in zip(X[:, 1], X[:, 2], y):\n",
    "   img_path = 'images/iris_' + target_names[target] + '.png'\n",
    "   ab = AnnotationBbox(getImage(img_path), (x0, y0), frameon=False)\n",
    "   ax.add_artist(ab)\n",
    "plt.xlabel(feature_names[1])\n",
    "plt.ylabel(feature_names[2])\n",
    "plt.grid(True)\n",
    "plt.xlim([1.5, 4.5])\n"
   ]
  },
  {
   "cell_type": "markdown",
   "metadata": {},
   "source": [
    "## Preprocessing"
   ]
  },
  {
   "cell_type": "code",
   "execution_count": null,
   "metadata": {},
   "outputs": [],
   "source": [
    "from sklearn.preprocessing import StandardScaler\n",
    "\n",
    "scaler = StandardScaler()\n",
    "scaler.fit(X)\n",
    "X_scaled = scaler.transform(X)"
   ]
  },
  {
   "cell_type": "markdown",
   "metadata": {},
   "source": [
    "## Dimensionality reduction"
   ]
  },
  {
   "cell_type": "code",
   "execution_count": null,
   "metadata": {},
   "outputs": [],
   "source": [
    "from sklearn.decomposition import PCA\n",
    "\n",
    "pca = PCA()\n",
    "pca.fit(X_scaled)\n",
    "\n",
    "X_pc = pca.transform(X_scaled)"
   ]
  },
  {
   "cell_type": "markdown",
   "metadata": {},
   "source": [
    "## Training an estimator"
   ]
  },
  {
   "cell_type": "code",
   "execution_count": null,
   "metadata": {},
   "outputs": [],
   "source": [
    "from sklearn.neighbors import KNeighborsClassifier\n",
    "\n",
    "knn = KNeighborsClassifier()\n",
    "\n",
    "knn.fit(X_pc, y)"
   ]
  },
  {
   "cell_type": "markdown",
   "metadata": {},
   "source": [
    "## Testing an estimator"
   ]
  },
  {
   "cell_type": "code",
   "execution_count": null,
   "metadata": {},
   "outputs": [],
   "source": [
    "from sklearn.model_selection import train_test_split\n",
    "from sklearn.metrics import classification_report\n",
    "\n",
    "X_train, X_test, y_train, y_test = train_test_split(X, y, test_size=0.2, stratify=y, random_state=8)\n",
    "\n",
    "X_train_scaled = scaler.fit_transform(X_train)\n",
    "X_train_pc = pca.fit_transform(X_train_scaled)\n",
    "\n",
    "knn.fit(X_train_pc, y_train)\n",
    "\n",
    "X_test_scaled = scaler.transform(X_test)\n",
    "X_test_pc = pca.transform(X_test_scaled)\n",
    "\n",
    "y_pred = knn.predict(X_test_pc)\n",
    "\n",
    "print(classification_report(y_test, y_pred))\n"
   ]
  },
  {
   "cell_type": "markdown",
   "metadata": {},
   "source": [
    "## Hyperparameter tuning"
   ]
  },
  {
   "cell_type": "code",
   "execution_count": null,
   "metadata": {},
   "outputs": [],
   "source": [
    "from sklearn.model_selection import GridSearchCV\n",
    "\n",
    "param_grid = {\n",
    "    'n_neighbors': [1, 2, 3, 4, 5, 6, 7, 8, 9, 10],\n",
    "    'weights': ['uniform', 'distance'],\n",
    "    'algorithm': ['auto', 'ball_tree', 'kd_tree', 'brute'],\n",
    "    'leaf_size': [10, 20, 30, 40, 50, 60, 70, 80, 90],\n",
    "    'p': [1, 2, 3]    \n",
    "}\n",
    "\n",
    "search = GridSearchCV(KNeighborsClassifier(), param_grid, verbose=1, n_jobs=-1)\n",
    "search.fit(X_train_pc, y_train)\n",
    "search.best_params_"
   ]
  },
  {
   "cell_type": "code",
   "execution_count": null,
   "metadata": {},
   "outputs": [],
   "source": [
    "print(classification_report(y_test, search.predict(X_test_pc)))"
   ]
  },
  {
   "cell_type": "markdown",
   "metadata": {},
   "source": [
    "## Putting it all together"
   ]
  },
  {
   "cell_type": "markdown",
   "metadata": {},
   "source": []
  },
  {
   "cell_type": "code",
   "execution_count": null,
   "metadata": {},
   "outputs": [],
   "source": [
    "from sklearn.pipeline import Pipeline\n",
    "\n",
    "steps = [\n",
    "    ('scaling', StandardScaler()),\n",
    "    ('pca', PCA()),\n",
    "    ('knn', KNeighborsClassifier())\n",
    "]\n",
    "\n",
    "pipeline = Pipeline(steps)\n",
    "\n",
    "\n",
    "param_grid = {\n",
    "    'scaling__with_mean': [True, False],\n",
    "    'scaling__with_std': [True, False],\n",
    "    'pca__n_components': [1, 2, 3, 4],\n",
    "    'knn__n_neighbors': [1, 2, 3, 4, 5, 6, 7, 8, 9, 10],\n",
    "    'knn__weights': ['uniform', 'distance'],\n",
    "    'knn__algorithm': ['auto', 'ball_tree', 'kd_tree', 'brute'],\n",
    "    'knn__leaf_size': [10, 20, 30, 40, 50, 60, 70, 80, 90],\n",
    "    'knn__p': [1, 2, 3]    \n",
    "}\n",
    "\n",
    "find_best = GridSearchCV(pipeline, param_grid, verbose=1, n_jobs=-1)\n",
    "\n",
    "find_best.fit(X_train, y_train)\n",
    "find_best.best_params_"
   ]
  },
  {
   "cell_type": "code",
   "execution_count": null,
   "metadata": {},
   "outputs": [],
   "source": [
    "import pandas as pd\n",
    "results = pd.DataFrame(find_best.cv_results_)\n",
    "results.sort_values('rank_test_score')"
   ]
  },
  {
   "cell_type": "code",
   "execution_count": null,
   "metadata": {},
   "outputs": [],
   "source": [
    "print(classification_report(y_test, find_best.predict(X_test)))"
   ]
  },
  {
   "cell_type": "code",
   "execution_count": null,
   "metadata": {},
   "outputs": [],
   "source": []
  }
 ],
 "metadata": {
  "kernelspec": {
   "display_name": "Python 3.10.8 64-bit",
   "language": "python",
   "name": "python3"
  },
  "language_info": {
   "codemirror_mode": {
    "name": "ipython",
    "version": 3
   },
   "file_extension": ".py",
   "mimetype": "text/x-python",
   "name": "python",
   "nbconvert_exporter": "python",
   "pygments_lexer": "ipython3",
   "version": "3.10.8"
  },
  "orig_nbformat": 4,
  "vscode": {
   "interpreter": {
    "hash": "aee8b7b246df8f9039afb4144a1f6fd8d2ca17a180786b69acc140d282b71a49"
   }
  }
 },
 "nbformat": 4,
 "nbformat_minor": 2
}
